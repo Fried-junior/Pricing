{
 "cells": [
  {
   "cell_type": "markdown",
   "metadata": {},
   "source": [
    "# DEVOIR PYTHON ANNEXE "
   ]
  },
  {
   "cell_type": "code",
   "execution_count": 2,
   "metadata": {},
   "outputs": [],
   "source": [
    "import numpy as np\n",
    "import sympy as sym\n",
    "from scipy.special import lambertw\n",
    "l,x,y,p,R,h,c,A=sym.symbols('l x y p R h c A',positive=True)\n",
    "O,W,Op,Om,Wp,Wm,bornesup=sym.symbols('O W Op Om Wp Wm bornesup',positive = True)"
   ]
  },
  {
   "cell_type": "markdown",
   "metadata": {},
   "source": [
    "Ici v représente l'utilité indirect pour le bien x et u représente les deux bien x,y."
   ]
  },
  {
   "cell_type": "code",
   "execution_count": 4,
   "metadata": {},
   "outputs": [
    {
     "name": "stdout",
     "output_type": "stream",
     "text": [
      "x*(O + W + 1) - (x + 1)*log(x + 1)\n"
     ]
    }
   ],
   "source": [
    "v= x*(1 + W + O)-(x + 1) * sym.ln(x+1)\n",
    "print(v)"
   ]
  },
  {
   "cell_type": "code",
   "execution_count": 5,
   "metadata": {},
   "outputs": [
    {
     "name": "stdout",
     "output_type": "stream",
     "text": [
      "h*y + x*(O + W + 1) - (x + 1)*log(x + 1)\n"
     ]
    }
   ],
   "source": [
    "u=x*(1 + W + O)-(x + 1) * sym.ln(x+1)+h*y\n",
    "print(u)"
   ]
  },
  {
   "cell_type": "markdown",
   "metadata": {},
   "source": [
    "# 4 VENTE À L'UNITÈ"
   ]
  },
  {
   "cell_type": "markdown",
   "metadata": {},
   "source": [
    "# 4.1 consomateur"
   ]
  },
  {
   "cell_type": "markdown",
   "metadata": {},
   "source": [
    "- Ici nous représentons le bien y en fonction de x et du revenu"
   ]
  },
  {
   "cell_type": "code",
   "execution_count": 6,
   "metadata": {},
   "outputs": [
    {
     "name": "stdout",
     "output_type": "stream",
     "text": [
      "R - p*x\n"
     ]
    }
   ],
   "source": [
    "yr=R - p*x \n",
    "print(yr)"
   ]
  },
  {
   "cell_type": "markdown",
   "metadata": {},
   "source": [
    "- u1 représente la fonction d'utilité en fonction de deux bien en fonction de x,R,O,W."
   ]
  },
  {
   "cell_type": "code",
   "execution_count": 7,
   "metadata": {},
   "outputs": [
    {
     "name": "stdout",
     "output_type": "stream",
     "text": [
      "h*(R - p*x) + x*(O + W + 1) - (x + 1)*log(x + 1)\n"
     ]
    }
   ],
   "source": [
    "\n",
    "u1=x*(1 + W + O)-(x + 1) * sym.ln(x+1)+h*yr # on remplace y dans l'utilité\n",
    "print(u1)\n"
   ]
  },
  {
   "cell_type": "markdown",
   "metadata": {},
   "source": [
    "- u1x represente la dérivée de la fonction d'utilité u1\n",
    "- u1xx représente la dérivée seconde de la fonction u1\n",
    "\n",
    "- Nous effectunos une dérivé par rapport à x pour maximiser la fonction\n",
    "- La dérivée seconde est négative puisque x est toujours positive donc la fonction de l'utilité admet bien un maximum"
   ]
  },
  {
   "cell_type": "code",
   "execution_count": 8,
   "metadata": {},
   "outputs": [
    {
     "name": "stdout",
     "output_type": "stream",
     "text": [
      "O + W - h*p + (-x - 1)/(x + 1) - log(x + 1) + 1\n",
      "-(-x - 1)/(x + 1)**2 - 2/(x + 1)\n"
     ]
    }
   ],
   "source": [
    "\n",
    "u1x=u1.diff(x)\n",
    "u1xx=u1x.diff(x)\n",
    "print(u1x)\n",
    "print(u1xx)\n"
   ]
  },
  {
   "cell_type": "markdown",
   "metadata": {},
   "source": [
    "- Ici nous faisons la résolution de la dérivé de la fonction d'utilité u1 à 0"
   ]
  },
  {
   "cell_type": "code",
   "execution_count": 9,
   "metadata": {},
   "outputs": [
    {
     "name": "stdout",
     "output_type": "stream",
     "text": [
      "[exp(O + W - h*p) - 1]\n"
     ]
    }
   ],
   "source": [
    "xre=sym.solve(u1x,x)\n",
    "print(xre) # on resoud la CN1 POUR TROUVER X EN FONCTION DE TOUT\n",
    "#la fonction de demande de bien composite est:\n"
   ]
  },
  {
   "cell_type": "markdown",
   "metadata": {},
   "source": [
    "- Nous écrivons la fonction de demande de bien composite"
   ]
  },
  {
   "cell_type": "code",
   "execution_count": 10,
   "metadata": {},
   "outputs": [
    {
     "name": "stdout",
     "output_type": "stream",
     "text": [
      "R - p*(exp(O + W - h*p) - 1)\n"
     ]
    }
   ],
   "source": [
    "ycompC=R-p*(sym.exp(O + W - h*p) - 1)\n",
    "print(ycompC)\n",
    "# la demande individuelle pour le bien d’intérêt est :\n"
   ]
  },
  {
   "cell_type": "markdown",
   "metadata": {},
   "source": [
    "- Nous écrivons la fonction de la demande individueelle ppour le bien x."
   ]
  },
  {
   "cell_type": "code",
   "execution_count": 11,
   "metadata": {},
   "outputs": [
    {
     "name": "stdout",
     "output_type": "stream",
     "text": [
      "exp(O + W - h*p) - 1\n"
     ]
    }
   ],
   "source": [
    "xcompC=(sym.exp(O + W - h*p) - 1)\n",
    "print(xcompC)\n",
    "#On peut alors en déduire l’expression de la fonction d’utilité indirecte du consommateur de type θ :\n"
   ]
  },
  {
   "cell_type": "markdown",
   "metadata": {},
   "source": [
    "- Ici nous écrivons la fonction d'utilité indirect du consommateur de type O"
   ]
  },
  {
   "cell_type": "code",
   "execution_count": 12,
   "metadata": {},
   "outputs": [
    {
     "name": "stdout",
     "output_type": "stream",
     "text": [
      "R*h + exp(O + W - h*p) - 1\n"
     ]
    }
   ],
   "source": [
    "vindiC=xcompC+h*R\n",
    "print(vindiC)"
   ]
  },
  {
   "cell_type": "markdown",
   "metadata": {},
   "source": [
    "# 4.2 Monopole"
   ]
  },
  {
   "cell_type": "markdown",
   "metadata": {},
   "source": [
    "- Nous écrivons ici la formule du profit "
   ]
  },
  {
   "cell_type": "code",
   "execution_count": 13,
   "metadata": {},
   "outputs": [
    {
     "name": "stdout",
     "output_type": "stream",
     "text": [
      "x*(-c + p)\n",
      "(-c + p)*(exp(O + W - h*p) - 1)\n"
     ]
    }
   ],
   "source": [
    "profit=(p-c)*x # la maximisation du profit\n",
    "profit1=(p-c)*xcompC\n",
    "print(profit)\n",
    "print(profit1)"
   ]
  },
  {
   "cell_type": "markdown",
   "metadata": {},
   "source": [
    "- Écriture de l'intégrale "
   ]
  },
  {
   "cell_type": "code",
   "execution_count": 14,
   "metadata": {},
   "outputs": [
    {
     "name": "stdout",
     "output_type": "stream",
     "text": [
      "-Om*(c - p) + Op*(c - p) - (-c + p)*exp(Om + W - h*p) + (-c + p)*exp(Op + W - h*p)\n"
     ]
    }
   ],
   "source": [
    "O1=sym.integrate(profit1,(O, Om,Op))# Donne la primitive de lq fonction par rapport à O\n",
    "print(O1)\n",
    "\n"
   ]
  },
  {
   "cell_type": "markdown",
   "metadata": {},
   "source": [
    "- Voici l'écriture finale de notre intégrale sur la borne [Oinf,Osup] "
   ]
  },
  {
   "cell_type": "code",
   "execution_count": 15,
   "metadata": {},
   "outputs": [
    {
     "name": "stdout",
     "output_type": "stream",
     "text": [
      "-Om*(c - p) + Op*(c - p) - (-c + p)*exp(Om + W - h*p) + (-c + p)*exp(Op + W - h*p)\n"
     ]
    }
   ],
   "source": [
    "integrale=-Om*(c - p) + Op*(c - p) - (-c + p)*sym.exp(Om + W - h*p) + (-c + p)*sym.exp(Op + W - h*p)\n",
    "print(integrale)"
   ]
  },
  {
   "cell_type": "markdown",
   "metadata": {},
   "source": [
    "- En suite nous effectuons une dérivé par rapport à p de l'intégrale du revenu"
   ]
  },
  {
   "cell_type": "code",
   "execution_count": 16,
   "metadata": {},
   "outputs": [
    {
     "name": "stdout",
     "output_type": "stream",
     "text": [
      "Om - Op - h*(-c + p)*exp(Op + W - h*p) - h*(c - p)*exp(Om + W - h*p) - exp(Om + W - h*p) + exp(Op + W - h*p)\n"
     ]
    }
   ],
   "source": [
    "integralederive=integrale.diff(p)\n",
    "print(integralederive)"
   ]
  },
  {
   "cell_type": "markdown",
   "metadata": {},
   "source": [
    "- La résolution de la fonction\n",
    "- On trouve un prix p qui est égal"
   ]
  },
  {
   "cell_type": "code",
   "execution_count": 17,
   "metadata": {},
   "outputs": [
    {
     "name": "stdout",
     "output_type": "stream",
     "text": [
      "[(c*h - LambertW((Om - Op)*exp(-W + c*h + 1)/(exp(Om) - exp(Op))) + 1)/h]\n"
     ]
    }
   ],
   "source": [
    "print(sym.solve(integralederive,p))"
   ]
  },
  {
   "cell_type": "code",
   "execution_count": 18,
   "metadata": {},
   "outputs": [
    {
     "name": "stdout",
     "output_type": "stream",
     "text": [
      "(c*h - LambertW((Om - Op)*exp(-W + c*h + 1)/(exp(Om) - exp(Op))) + 1)/h\n"
     ]
    }
   ],
   "source": [
    "price=(c*h - sym.LambertW((Om - Op)*sym.exp(-W + c*h + 1)/(sym.exp(Om) - sym.exp(Op))) + 1)/h\n",
    "print(price)"
   ]
  },
  {
   "cell_type": "markdown",
   "metadata": {},
   "source": [
    "**sous l'hypothése 3 le prix vaut:**"
   ]
  },
  {
   "cell_type": "code",
   "execution_count": 19,
   "metadata": {},
   "outputs": [
    {
     "name": "stdout",
     "output_type": "stream",
     "text": [
      "(c*h - LambertW(-exp(-W + c*h + 1)/(1 - E)) + 1)/h\n"
     ]
    }
   ],
   "source": [
    "prix=(c*h - sym.LambertW((-1)*sym.exp(-W + c*h + 1)/(sym.exp(0) - sym.exp(1))) + 1)/h\n",
    "print(prix)"
   ]
  },
  {
   "cell_type": "code",
   "execution_count": 20,
   "metadata": {},
   "outputs": [
    {
     "name": "stdout",
     "output_type": "stream",
     "text": [
      "(1 - exp(O + W - h*p))*(LambertW(-exp(-W + c*h + 1)/(1 - E)) - 1)/h\n"
     ]
    }
   ],
   "source": [
    "profitU=sym.simplify((prix-c)*xcompC)\n",
    "print(profitU)"
   ]
  },
  {
   "cell_type": "markdown",
   "metadata": {},
   "source": [
    "- **Surplus du consommateur**"
   ]
  },
  {
   "cell_type": "code",
   "execution_count": 21,
   "metadata": {},
   "outputs": [
    {
     "name": "stdout",
     "output_type": "stream",
     "text": [
      "[(O + W)/h]\n"
     ]
    }
   ],
   "source": [
    "print(sym.solve(xcompC,p))"
   ]
  },
  {
   "cell_type": "markdown",
   "metadata": {},
   "source": [
    "le prix pour x=0 est égale à $p=(O + W)/h$"
   ]
  },
  {
   "cell_type": "code",
   "execution_count": 22,
   "metadata": {},
   "outputs": [
    {
     "name": "stdout",
     "output_type": "stream",
     "text": [
      "-(O + W)/h + (c*h - LambertW(-exp(-W + c*h + 1)/(1 - E)) + 1)/h + exp(O + W - c*h + LambertW(-exp(-W + c*h + 1)/(1 - E)) - 1)/h - 1/h\n"
     ]
    }
   ],
   "source": [
    "SC=sym.integrate(xcompC,(p,prix,(O + W)/h))\n",
    "print(SC)"
   ]
  },
  {
   "cell_type": "markdown",
   "metadata": {},
   "source": [
    "# 5 Tarification forfaitaire \" vente à volonté\""
   ]
  },
  {
   "cell_type": "code",
   "execution_count": 23,
   "metadata": {},
   "outputs": [],
   "source": [
    "import numpy as np\n",
    "import sympy as sym\n",
    "from scipy.special import lambertw\n",
    "x,y,p,R,h,c,A=sym.symbols('x y p R h c A',positive=True)\n",
    "O,W,Op,Om,bornesup,borneinf=sym.symbols('O W Omax Omin bornesup borneinf',positive= True)"
   ]
  },
  {
   "cell_type": "markdown",
   "metadata": {},
   "source": [
    "# 5.1 Consommateur"
   ]
  },
  {
   "cell_type": "markdown",
   "metadata": {},
   "source": [
    "On a: $y=R-A$\n",
    "\n",
    "-on chperche à maximiser la fonction suivante:  $maxU(x,y)=x(1+O+W)-(x+1)(ln(x+1))+hy$"
   ]
  },
  {
   "cell_type": "markdown",
   "metadata": {},
   "source": [
    "Le consommateur de type O paie A quelle que soit la quantité (strictement positive) consommée. Si x > 0 le programme d’un consommateur de type O est :\n",
    "\n",
    "$max(x,y)=x(1+O+W)-(x+1)(ln(x+1))+hy$\n",
    "    * slc A+y=< R"
   ]
  },
  {
   "cell_type": "markdown",
   "metadata": {},
   "source": [
    "- On cherche à trouver la quantité x qui maximise l'utilité du consommateur.Pour ce faire nous allons regarder la dérivée première et seconde de la fonction d'utilité.\n",
    "- Pour ce faire soit U la fonction d'utilité,Ux sa dérivée première et Uxx sa dérivée seconde.\n"
   ]
  },
  {
   "cell_type": "code",
   "execution_count": 24,
   "metadata": {},
   "outputs": [
    {
     "name": "stdout",
     "output_type": "stream",
     "text": [
      "h*(-A + R) + x*(O + W + 1) - (x + 1)*log(x + 1)\n"
     ]
    }
   ],
   "source": [
    "U=x*(1+O+W)-(x+1)*(sym.ln(x+1))+h*(R-A)\n",
    "print(U)"
   ]
  },
  {
   "cell_type": "markdown",
   "metadata": {},
   "source": [
    "soit U=$h(-A + R) - (x + 1)log(x + 1) + x(O + W + 1)$ la fonction d'utilité"
   ]
  },
  {
   "cell_type": "code",
   "execution_count": 25,
   "metadata": {},
   "outputs": [
    {
     "name": "stdout",
     "output_type": "stream",
     "text": [
      "O + W + (-x - 1)/(x + 1) - log(x + 1) + 1\n"
     ]
    }
   ],
   "source": [
    "Ux=sym.diff(U,x)\n",
    "print(Ux)\n"
   ]
  },
  {
   "cell_type": "markdown",
   "metadata": {},
   "source": [
    "soit $Ux=O + W - log(x + 1)$ la dérivée première de la fonction d'utilité"
   ]
  },
  {
   "cell_type": "code",
   "execution_count": 26,
   "metadata": {},
   "outputs": [
    {
     "name": "stdout",
     "output_type": "stream",
     "text": [
      "-(-x - 1)/(x + 1)**2 - 2/(x + 1)\n"
     ]
    }
   ],
   "source": [
    "Uxx=sym.diff(Ux,x)\n",
    "print(Uxx)"
   ]
  },
  {
   "cell_type": "markdown",
   "metadata": {},
   "source": [
    "soit Uxx=$-1/(x + 1)$ la secondede la fonction d'utilité"
   ]
  },
  {
   "cell_type": "markdown",
   "metadata": {},
   "source": [
    "- Comme la dérivée seconde de $x$ est toujours négative puisque $x>0$ sur 0 à plus l'infinie la fonction U admet un maximum sur cet intervalle."
   ]
  },
  {
   "cell_type": "markdown",
   "metadata": {},
   "source": [
    "* À la recherche de la solution de x pour Ux=0"
   ]
  },
  {
   "cell_type": "code",
   "execution_count": 27,
   "metadata": {},
   "outputs": [
    {
     "name": "stdout",
     "output_type": "stream",
     "text": [
      "[exp(O + W) - 1]\n",
      "exp(O + W) - 1\n"
     ]
    }
   ],
   "source": [
    "xtrouve=sym.solve(Ux,x)\n",
    "print(xtrouve)\n",
    "xtr=(sym.exp(O+W)-1)\n",
    "print(xtr)"
   ]
  },
  {
   "cell_type": "markdown",
   "metadata": {},
   "source": [
    "Si A ≤ R, la CN1 du programme est  $O + W - log(x + 1)=0$.\n",
    "\n",
    "La fonction de demande individuelle est\n",
    "donc :\n",
    "\n",
    "$U_{\\theta}(A)=exp(O + W) - 1$"
   ]
  },
  {
   "cell_type": "markdown",
   "metadata": {},
   "source": [
    "et la fonction d’utilité indirecte est :\n",
    "\n",
    "   $V_θ(A, R,W) = (exp(O+W)−1 − Ah)_{0< A≤R} + hR$"
   ]
  },
  {
   "cell_type": "code",
   "execution_count": 28,
   "metadata": {},
   "outputs": [
    {
     "name": "stdout",
     "output_type": "stream",
     "text": [
      "-A*h + R*h + exp(O + W) - 1\n",
      "-A*h + exp(O + W) - 1\n",
      "[-W + log(A*h + 1)]\n",
      "A*h\n"
     ]
    }
   ],
   "source": [
    "V=(xtr-A*h+h*R)\n",
    "print(V)\n",
    "print(xtr-A*h)\n",
    "print(sym.solve(xtr-A*h,O))\n",
    "borneinf=A*h\n",
    "print(borneinf)"
   ]
  },
  {
   "cell_type": "markdown",
   "metadata": {},
   "source": [
    "si le bien d’intérêt n’est pas consommé, on a :\n",
    "Vθ(0, R) = hR. Le consommateur choisit de consommer le bien d’intérêt si $θ ≥ A*h$ et si A ≤ R."
   ]
  },
  {
   "cell_type": "markdown",
   "metadata": {},
   "source": [
    "# MONOPOLE"
   ]
  },
  {
   "cell_type": "markdown",
   "metadata": {},
   "source": [
    "- on chperche à maximiser la fonction du profit suivante:  $maxπ_{A}(A)=\\int_{borneinf}^{bornesup} A - c*(exp(O + W) - 1)dF{O}$"
   ]
  },
  {
   "cell_type": "markdown",
   "metadata": {},
   "source": [
    "- Soit la borneinf=Ah"
   ]
  },
  {
   "cell_type": "code",
   "execution_count": 29,
   "metadata": {},
   "outputs": [
    {
     "name": "stdout",
     "output_type": "stream",
     "text": [
      "A - c*(exp(O + W) - 1)\n"
     ]
    }
   ],
   "source": [
    "profit2=A-c*xtr\n",
    "print(profit2)"
   ]
  },
  {
   "cell_type": "markdown",
   "metadata": {},
   "source": [
    "On cherche à effectué une intégrale sur notre intervalle "
   ]
  },
  {
   "cell_type": "code",
   "execution_count": 30,
   "metadata": {},
   "outputs": [
    {
     "name": "stdout",
     "output_type": "stream",
     "text": [
      "-A*h*(A + c) + bornesup*(A + c) - c*exp(W + bornesup) + c*exp(A*h + W)\n",
      "-A*h*(A + c) + bornesup*(A + c) - c*exp(W + bornesup) + c*exp(A*h + W)\n"
     ]
    }
   ],
   "source": [
    "print(sym.integrate(profit2,(O,borneinf,bornesup)))\n",
    "integraleU=-A*h*(A + c) + bornesup*(A + c) - c*sym.exp(W + bornesup) + c*sym.exp(A*h + W)\n",
    "print(integraleU)"
   ]
  },
  {
   "cell_type": "markdown",
   "metadata": {},
   "source": [
    "- Soit la fonction $f=Ah(A + c) + bornesup(A + c) - cexp(W + bornesup) + cexp(Ah + W)$ la fonction de l'intégrale du profit sur l'intervalle défini."
   ]
  },
  {
   "cell_type": "markdown",
   "metadata": {},
   "source": [
    "- Maintenant nous effectuons les dérivées première et seconde de la fonction de profit."
   ]
  },
  {
   "cell_type": "code",
   "execution_count": 31,
   "metadata": {},
   "outputs": [
    {
     "name": "stdout",
     "output_type": "stream",
     "text": [
      "-A*h + bornesup + c*h*exp(A*h + W) - h*(A + c)\n",
      "c*h**2*exp(A*h + W) - 2*h\n",
      "[(-W - log(c) - log(h) + log(2))/h]\n"
     ]
    }
   ],
   "source": [
    "Ax=sym.diff(integraleU,A)\n",
    "print(Ax)\n",
    "Axx=sym.diff(Ax,A)\n",
    "print(Axx)\n",
    "print(sym.solve(Axx,A))"
   ]
  },
  {
   "cell_type": "markdown",
   "metadata": {},
   "source": [
    "- Soit $Ah + bornesup + c*h*exp(A*h + W) - h(A + c)$ la dérivé première .\n",
    "- Et $c*h**2*exp(A*h + W) - 2*h$ la dérivée seconde."
   ]
  },
  {
   "cell_type": "markdown",
   "metadata": {},
   "source": [
    "la fonction admet un maximum et est concave seulement si $A>log(2exp(-W)/(ch))/h$"
   ]
  },
  {
   "cell_type": "markdown",
   "metadata": {},
   "source": [
    "**Recherche de la valeur du forfait qui maximuise le profit**"
   ]
  },
  {
   "cell_type": "code",
   "execution_count": 32,
   "metadata": {},
   "outputs": [
    {
     "name": "stdout",
     "output_type": "stream",
     "text": [
      "[(bornesup - c*h - 2*LambertW(-c*h*exp(W + bornesup/2 - c*h/2)/2))/(2*h), (bornesup - c*h - 2*LambertW(c*h*exp(W + bornesup/2 - c*h/2)/2))/(2*h)]\n"
     ]
    }
   ],
   "source": [
    "print(sym.solve(Ax,A)) \n"
   ]
  },
  {
   "cell_type": "markdown",
   "metadata": {},
   "source": [
    "- Soit $A=(bornesup - c*h - 2*LambertW(-c*h*exp(W + bornesup/2 - c*h/2)/2))/(2*h)$ \n",
    "\n",
    "ou\n",
    "\n",
    "$A=(bornesup - c*h - 2*LambertW(c*h*exp(W + bornesup/2 - c*h/2)/2))/(2*h)$\n",
    "\n",
    "\n",
    "la valeur de A maximisant le profit\n"
   ]
  },
  {
   "cell_type": "markdown",
   "metadata": {},
   "source": [
    "- **Sous l'hypothése H3 A vaut** $(-c*h - 2*LambertW(-0.824360635350064*c*h*exp(W - c*h/2)) + 1)/(2*h)$\n",
    "\n",
    "ou\n",
    "\n",
    "$(-c*h - 2*LambertW(0.824360635350064*c*h*exp(W - c*h/2)) + 1)/(2*h)$\n"
   ]
  },
  {
   "cell_type": "code",
   "execution_count": 33,
   "metadata": {},
   "outputs": [
    {
     "name": "stdout",
     "output_type": "stream",
     "text": [
      "(-c*h - 2*LambertW(-0.824360635350064*c*h*exp(W - c*h/2)) + 1)/(2*h)\n",
      "(-c*h - 2*LambertW(0.824360635350064*c*h*exp(W - c*h/2)) + 1)/(2*h)\n"
     ]
    }
   ],
   "source": [
    "j=(1 - c*h - 2*sym.LambertW(-c*h*sym.exp(W + 1/2 - c*h/2)/2))/(2*h)\n",
    "j2=(1 - c*h - 2*sym.LambertW(c*h*sym.exp(W + 1/2 - c*h/2)/2))/(2*h)\n",
    "print(j)\n",
    "print(j2)\n"
   ]
  },
  {
   "cell_type": "markdown",
   "metadata": {},
   "source": [
    "- le profit s'écrit de façon suivante:"
   ]
  },
  {
   "cell_type": "code",
   "execution_count": 34,
   "metadata": {},
   "outputs": [
    {
     "name": "stdout",
     "output_type": "stream",
     "text": [
      "(bornesup*(c*h - 2*LambertW(-0.824360635350064*c*h*exp(W - c*h/2)) + 1)/2 + c*h*(-exp(W + bornesup) + exp(W - c*h/2 - LambertW(-0.824360635350064*c*h*exp(W - c*h/2)) + 1/2)) + (c*h - 2*LambertW(-0.824360635350064*c*h*exp(W - c*h/2)) + 1)*(c*h + 2*LambertW(-0.824360635350064*c*h*exp(W - c*h/2)) - 1)/4)/h\n",
      "(bornesup*(c*h - 2*LambertW(0.824360635350064*c*h*exp(W - c*h/2)) + 1)/2 + c*h*(-exp(W + bornesup) + exp(W - c*h/2 - LambertW(0.824360635350064*c*h*exp(W - c*h/2)) + 1/2)) + (c*h - 2*LambertW(0.824360635350064*c*h*exp(W - c*h/2)) + 1)*(c*h + 2*LambertW(0.824360635350064*c*h*exp(W - c*h/2)) - 1)/4)/h\n"
     ]
    }
   ],
   "source": [
    "profitA=sym.simplify(-j*h*(j + c) + bornesup*(j + c) - c*sym.exp(W + bornesup) + c*sym.exp(j*h + W))\n",
    "profitA2=sym.simplify(-j2*h*(j2+ c) + bornesup*(j2 + c) - c*sym.exp(W + bornesup) + c*sym.exp(j2*h + W))\n",
    "print(profitA)\n",
    "print(profitA2)"
   ]
  },
  {
   "cell_type": "markdown",
   "metadata": {},
   "source": [
    "**Sous l'hypothése H3 le profit vaut**"
   ]
  },
  {
   "cell_type": "code",
   "execution_count": 49,
   "metadata": {},
   "outputs": [
    {
     "data": {
      "text/latex": [
       "$\\displaystyle \\frac{c h \\left(- e^{W + 1} + 1.64872127070013 e^{W - \\frac{c h}{2} - W\\left(- 0.824360635350064 c h e^{W - \\frac{c h}{2}}\\right)}\\right) + \\frac{c h}{2} + \\frac{\\left(c h - 2 W\\left(- 0.824360635350064 c h e^{W - \\frac{c h}{2}}\\right) + 1\\right) \\left(c h + 2 W\\left(- 0.824360635350064 c h e^{W - \\frac{c h}{2}}\\right) - 1\\right)}{4} - W\\left(- 0.824360635350064 c h e^{W - \\frac{c h}{2}}\\right) + \\frac{1}{2}}{h}$"
      ],
      "text/plain": [
       "(c*h*(-exp(W + 1) + 1.64872127070013*exp(W - c*h/2 - LambertW(-0.824360635350064*c*h*exp(W - c*h/2)))) + c*h/2 + (c*h - 2*LambertW(-0.824360635350064*c*h*exp(W - c*h/2)) + 1)*(c*h + 2*LambertW(-0.824360635350064*c*h*exp(W - c*h/2)) - 1)/4 - LambertW(-0.824360635350064*c*h*exp(W - c*h/2)) + 1/2)/h"
      ]
     },
     "execution_count": 49,
     "metadata": {},
     "output_type": "execute_result"
    }
   ],
   "source": [
    "profitfA=(1*(c*h - 2*sym.LambertW(-0.824360635350064*c*h*sym.exp(W - c*h/2)) + 1)/2 + c*h*(-sym.exp(W + 1) + sym.exp(W - c*h/2 - sym.LambertW(-0.824360635350064*c*h*sym.exp(W - c*h/2)) + 1/2)) + (c*h - 2*sym.LambertW(-0.824360635350064*c*h*sym.exp(W - c*h/2)) + 1)*(c*h + 2*sym.LambertW(-0.824360635350064*c*h*sym.exp(W - c*h/2)) - 1)/4)/h\n",
    "profitfA2=(1*(c*h - 2*sym.LambertW(0.824360635350064*c*h*sym.exp(W - c*h/2)) + 1)/2 + c*h*(-sym.exp(W + 1) + sym.exp(W - c*h/2 - sym.LambertW(0.824360635350064*c*h*sym.exp(W - c*h/2)) + 1/2)) + (c*h - 2*sym.LambertW(0.824360635350064*c*h*sym.exp(W - c*h/2)) + 1)*(c*h + 2*sym.LambertW(0.824360635350064*c*h*sym.exp(W - c*h/2)) - 1)/4)/h\n",
    "profitfA\n"
   ]
  },
  {
   "cell_type": "code",
   "execution_count": 50,
   "metadata": {},
   "outputs": [
    {
     "data": {
      "text/latex": [
       "$\\displaystyle \\frac{c h \\left(- e^{W + 1} + 1.64872127070013 e^{W - \\frac{c h}{2} - W\\left(0.824360635350064 c h e^{W - \\frac{c h}{2}}\\right)}\\right) + \\frac{c h}{2} + \\frac{\\left(c h - 2 W\\left(0.824360635350064 c h e^{W - \\frac{c h}{2}}\\right) + 1\\right) \\left(c h + 2 W\\left(0.824360635350064 c h e^{W - \\frac{c h}{2}}\\right) - 1\\right)}{4} - W\\left(0.824360635350064 c h e^{W - \\frac{c h}{2}}\\right) + \\frac{1}{2}}{h}$"
      ],
      "text/plain": [
       "(c*h*(-exp(W + 1) + 1.64872127070013*exp(W - c*h/2 - LambertW(0.824360635350064*c*h*exp(W - c*h/2)))) + c*h/2 + (c*h - 2*LambertW(0.824360635350064*c*h*exp(W - c*h/2)) + 1)*(c*h + 2*LambertW(0.824360635350064*c*h*exp(W - c*h/2)) - 1)/4 - LambertW(0.824360635350064*c*h*exp(W - c*h/2)) + 1/2)/h"
      ]
     },
     "execution_count": 50,
     "metadata": {},
     "output_type": "execute_result"
    }
   ],
   "source": [
    "profitfA2"
   ]
  },
  {
   "cell_type": "markdown",
   "metadata": {},
   "source": [
    "- Le profit s'écrit de cette manière : \n",
    "$(1*(c*h - 2*LambertW(-0.824360635350064*c*h*exp(W - c*h/2)) + 1)/2 + c*h*(-exp(W + 1) + exp(W - c*h/2 - LambertW(-0.824360635350064*c*h*exp(W - c*h/2)) + 1/2)) + (c*h - 2*LambertW(-0.824360635350064*c*h*exp(W - c*h/2)) + 1)*(c*h + 2*LambertW(-0.824360635350064*c*h*exp(W - c*h/2)) - 1)/4)/h$\n",
    "\n",
    "ou\n",
    "\n",
    "$(bornesup*(c*h - 2*LambertW(0.824360635350064*c*h*exp(W - c*h/2)) + 1)/2 + c*h*(-exp(W + bornesup) + exp(W - c*h/2 - LambertW(0.824360635350064*c*h*exp(W - c*h/2)) + 1/2)) + (c*h - 2*LambertW(0.824360635350064*c*h*exp(W - c*h/2)) + 1)*(c*h + 2*LambertW(0.824360635350064*c*h*exp(W - c*h/2)) - 1)/4)/h$"
   ]
  },
  {
   "cell_type": "code",
   "execution_count": null,
   "metadata": {},
   "outputs": [],
   "source": []
  },
  {
   "cell_type": "markdown",
   "metadata": {},
   "source": [
    " $(c*h*(exp(O + W) - 1) - c*h/2 - LambertW(-0.824360635350064*c*h*exp(W - c*h/2)) +1/2)/h$\n",
    "\n",
    "        ou\n",
    "\n",
    "$(c*h*(1 - exp(O + W)) - c*h/2 - LambertW(0.824360635350064*c*h*exp(W - c*h/2)) + 1/2)/h$"
   ]
  },
  {
   "cell_type": "markdown",
   "metadata": {},
   "source": [
    "- On cherche les individus O qui vont consommer du bien x\n",
    "- Pour se faire on cherche la valeur de O pour laquelle la quantité x vaut zéro\n"
   ]
  },
  {
   "cell_type": "code",
   "execution_count": 35,
   "metadata": {},
   "outputs": [
    {
     "name": "stdout",
     "output_type": "stream",
     "text": [
      "[-W + log(-c*h - 2.0*LambertW(-0.824360635350064*c*h*exp(W - 0.5*c*h)) + 3.0) - 0.693147180559945]\n",
      "[-W + log(-c*h - 2.0*LambertW(0.824360635350064*c*h*exp(W - 0.5*c*h)) + 3.0) - 0.693147180559945]\n"
     ]
    }
   ],
   "source": [
    "print(sym.solve(xtr-j*h,O))\n",
    "print(sym.solve(xtr-j2*h,O))"
   ]
  },
  {
   "cell_type": "markdown",
   "metadata": {},
   "source": [
    "Le surplus du consommateur de type $O ≥-W + log(-c*h - 2.0*LambertW(-0.824360635350064*c*h*exp(W - 0.5*c*h)) + 3.0) - 0.693147180559945$ \n",
    "\n",
    "ou\n",
    "\n",
    "$O ≥-W + log(-c*h - 2.0*LambertW(0.824360635350064*c*h*exp(W - 0.5*c*h)) + 3.0) - 0.693147180559945$ \n",
    "\n",
    "est :"
   ]
  },
  {
   "cell_type": "code",
   "execution_count": 57,
   "metadata": {},
   "outputs": [],
   "source": [
    "surplus=xtr-j*h\n",
    "surplus2=xtr-j2*h\n",
    "binf=-W + sym.ln(-c*h - 2.0*sym.LambertW(-0.824360635350064*c*h*sym.exp(W - 0.5*c*h)) + 3.0) - 0.693147180559945\n",
    "binf2=-W + sym.ln(-c*h - 2.0*sym.LambertW(0.824360635350064*c*h*sym.exp(W - 0.5*c*h)) + 3.0) - 0.693147180559945"
   ]
  },
  {
   "cell_type": "code",
   "execution_count": 58,
   "metadata": {},
   "outputs": [
    {
     "name": "stdout",
     "output_type": "stream",
     "text": [
      "bornesup*(c*h + 2*LambertW(-0.824360635350064*c*h*exp(W - c*h/2)) - 3)/2 + 0.5*c*h + (W - log(-c*h - 2.0*LambertW(-0.824360635350064*c*h*exp(W - 0.5*c*h)) + 3.0) + 0.693147180559945)*(c*h + 2*LambertW(-0.824360635350064*c*h*exp(W - c*h/2)) - 3)/2 + exp(W + bornesup) + 1.0*LambertW(-0.824360635350064*c*h*exp(W - 0.5*c*h)) - 1.5\n",
      "bornesup*(c*h + 2*LambertW(0.824360635350064*c*h*exp(W - c*h/2)) - 3)/2 + 0.5*c*h + (W - log(-c*h - 2.0*LambertW(0.824360635350064*c*h*exp(W - 0.5*c*h)) + 3.0) + 0.693147180559945)*(c*h + 2*LambertW(0.824360635350064*c*h*exp(W - c*h/2)) - 3)/2 + exp(W + bornesup) + 1.0*LambertW(0.824360635350064*c*h*exp(W - 0.5*c*h)) - 1.5\n"
     ]
    }
   ],
   "source": [
    "print(sym.simplify(sym.integrate(surplus,(O,bsup,bornesup))))\n",
    "print(sym.simplify(sym.integrate(surplus2,(O,bsup2,bornesup))))"
   ]
  },
  {
   "cell_type": "markdown",
   "metadata": {},
   "source": [
    "**sous l'hypothèse H3 le Surplus du consommateur vaut:**\n"
   ]
  },
  {
   "cell_type": "code",
   "execution_count": 59,
   "metadata": {},
   "outputs": [],
   "source": [
    "SCA=sym.simplify(1*(c*h + 2*sym.LambertW(-0.824360635350064*c*h*sym.exp(W - c*h/2)) - 3)/2 + 0.5*c*h + (W - sym.ln(-c*h - 2.0*sym.LambertW(-0.824360635350064*c*h*sym.exp(W - 0.5*c*h)) + 3.0) + 0.693147180559945)*(c*h + 2*sym.LambertW(-0.824360635350064*c*h*sym.exp(W - c*h/2)) - 3)/2 + sym.exp(W + 1) + 1.0*sym.LambertW(-0.824360635350064*c*h*sym.exp(W - 0.5*c*h)) - 1.5)\n",
    "SCA2=sym.simplify(1*(c*h + 2*sym.LambertW(0.824360635350064*c*h*sym.exp(W - c*h/2)) - 3)/2 + 0.5*c*h + (W - sym.ln(-c*h - 2.0*sym.LambertW(0.824360635350064*c*h*sym.exp(W - 0.5*c*h)) + 3.0) + 0.693147180559945)*(c*h + 2*sym.LambertW(0.824360635350064*c*h*sym.exp(W - c*h/2)) - 3)/2 + sym.exp(W + 1) + 1.0*sym.LambertW(0.824360635350064*c*h*sym.exp(W - 0.5*c*h)) - 1.5)"
   ]
  },
  {
   "cell_type": "code",
   "execution_count": 60,
   "metadata": {},
   "outputs": [
    {
     "name": "stdout",
     "output_type": "stream",
     "text": [
      "c*h + (W - log(-c*h - 2.0*LambertW(-0.824360635350064*c*h*exp(W - 0.5*c*h)) + 3.0) + 0.693147180559945)*(c*h + 2*LambertW(-0.824360635350064*c*h*exp(W - c*h/2)) - 3)/2 + exp(W + 1) + LambertW(-0.824360635350064*c*h*exp(W - c*h/2)) + LambertW(-0.824360635350064*c*h*exp(W - 0.5*c*h)) - 3.0\n",
      "c*h + (W - log(-c*h - 2.0*LambertW(0.824360635350064*c*h*exp(W - 0.5*c*h)) + 3.0) + 0.693147180559945)*(c*h + 2*LambertW(0.824360635350064*c*h*exp(W - c*h/2)) - 3)/2 + exp(W + 1) + LambertW(0.824360635350064*c*h*exp(W - c*h/2)) + LambertW(0.824360635350064*c*h*exp(W - 0.5*c*h)) - 3.0\n"
     ]
    }
   ],
   "source": [
    "print(SCA)\n",
    "print(SCA2)"
   ]
  },
  {
   "cell_type": "markdown",
   "metadata": {},
   "source": [
    "#  6 Monopole et « vente à l’unité ou (exclusif) à volonté »"
   ]
  },
  {
   "cell_type": "code",
   "execution_count": 61,
   "metadata": {},
   "outputs": [
    {
     "name": "stdout",
     "output_type": "stream",
     "text": [
      "(1 - exp(O + W - h*p))*(LambertW(-exp(-W + c*h + 1)/(1 - E)) - 1)/h\n"
     ]
    }
   ],
   "source": [
    "print(profitU)"
   ]
  },
  {
   "cell_type": "code",
   "execution_count": 62,
   "metadata": {},
   "outputs": [
    {
     "name": "stdout",
     "output_type": "stream",
     "text": [
      "(c*h*(-exp(W + 1) + 1.64872127070013*exp(W - c*h/2 - LambertW(-0.824360635350064*c*h*exp(W - c*h/2)))) + c*h/2 + (c*h - 2*LambertW(-0.824360635350064*c*h*exp(W - c*h/2)) + 1)*(c*h + 2*LambertW(-0.824360635350064*c*h*exp(W - c*h/2)) - 1)/4 - LambertW(-0.824360635350064*c*h*exp(W - c*h/2)) + 1/2)/h\n"
     ]
    }
   ],
   "source": [
    "print(profitfA)"
   ]
  },
  {
   "cell_type": "code",
   "execution_count": 63,
   "metadata": {},
   "outputs": [
    {
     "name": "stdout",
     "output_type": "stream",
     "text": [
      "(c*h*(-exp(W + 1) + 1.64872127070013*exp(W - c*h/2 - LambertW(0.824360635350064*c*h*exp(W - c*h/2)))) + c*h/2 + (c*h - 2*LambertW(0.824360635350064*c*h*exp(W - c*h/2)) + 1)*(c*h + 2*LambertW(0.824360635350064*c*h*exp(W - c*h/2)) - 1)/4 - LambertW(0.824360635350064*c*h*exp(W - c*h/2)) + 1/2)/h\n"
     ]
    }
   ],
   "source": [
    "print(profitfA2)"
   ]
  },
  {
   "cell_type": "code",
   "execution_count": 64,
   "metadata": {},
   "outputs": [
    {
     "name": "stdout",
     "output_type": "stream",
     "text": [
      "-(O + W)/h + (c*h - LambertW(-exp(-W + c*h + 1)/(1 - E)) + 1)/h + exp(O + W - c*h + LambertW(-exp(-W + c*h + 1)/(1 - E)) - 1)/h - 1/h\n"
     ]
    }
   ],
   "source": [
    "print(SC)"
   ]
  },
  {
   "cell_type": "code",
   "execution_count": 65,
   "metadata": {},
   "outputs": [
    {
     "name": "stdout",
     "output_type": "stream",
     "text": [
      "c*h + (W - log(-c*h - 2.0*LambertW(0.824360635350064*c*h*exp(W - 0.5*c*h)) + 3.0) + 0.693147180559945)*(c*h + 2*LambertW(0.824360635350064*c*h*exp(W - c*h/2)) - 3)/2 + exp(W + 1) + LambertW(0.824360635350064*c*h*exp(W - c*h/2)) + LambertW(0.824360635350064*c*h*exp(W - 0.5*c*h)) - 3.0\n"
     ]
    }
   ],
   "source": [
    "print(SCA2)"
   ]
  },
  {
   "cell_type": "markdown",
   "metadata": {},
   "source": [
    "**- Pour le producteur la formule à volonté sera préferée si profitA>profitU**"
   ]
  },
  {
   "cell_type": "markdown",
   "metadata": {},
   "source": [
    "**- Pour le consommateur la formule à volonté sera préferée si SCA>SC**"
   ]
  },
  {
   "cell_type": "code",
   "execution_count": null,
   "metadata": {},
   "outputs": [],
   "source": []
  }
 ],
 "metadata": {
  "kernelspec": {
   "display_name": "Python 3",
   "language": "python",
   "name": "python3"
  },
  "language_info": {
   "codemirror_mode": {
    "name": "ipython",
    "version": 3
   },
   "file_extension": ".py",
   "mimetype": "text/x-python",
   "name": "python",
   "nbconvert_exporter": "python",
   "pygments_lexer": "ipython3",
   "version": "3.8.5"
  }
 },
 "nbformat": 4,
 "nbformat_minor": 2
}
