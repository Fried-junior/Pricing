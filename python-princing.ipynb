{
 "cells": [
  {
   "cell_type": "code",
   "execution_count": 17,
   "metadata": {},
   "outputs": [],
   "source": [
    "import numpy as np\n",
    "import sympy as sym\n",
    "from scipy.special import lambertw\n",
    "l,x,y,p,R,h,c,A=sym.symbols('l x y p R h c A',positive=True)\n",
    "O,W,Op,Om,Wp,Wm,bornesup=sym.symbols('O W Op Om Wp Wm bornesup',positive = True)"
   ]
  },
  {
   "cell_type": "code",
   "execution_count": 18,
   "metadata": {},
   "outputs": [],
   "source": [
    "#O=np.random.normal(0,1,10)\n",
    "#W=np.random.normal(0,1,10)\n"
   ]
  },
  {
   "cell_type": "markdown",
   "metadata": {},
   "source": [
    "Ici v représente l'utilité indirect pour le bien x et u représente les deux bien x,y."
   ]
  },
  {
   "cell_type": "code",
   "execution_count": 19,
   "metadata": {},
   "outputs": [
    {
     "name": "stdout",
     "output_type": "stream",
     "text": [
      "x*(O + W + 1) - (x + 1)*log(x + 1)\n"
     ]
    }
   ],
   "source": [
    "v= x*(1 + W + O)-(x + 1) * sym.ln(x+1)\n",
    "print(v)"
   ]
  },
  {
   "cell_type": "code",
   "execution_count": 20,
   "metadata": {},
   "outputs": [
    {
     "name": "stdout",
     "output_type": "stream",
     "text": [
      "h*y + x*(O + W + 1) - (x + 1)*log(x + 1)\n"
     ]
    }
   ],
   "source": [
    "u=x*(1 + W + O)-(x + 1) * sym.ln(x+1)+h*y\n",
    "print(u)"
   ]
  },
  {
   "cell_type": "markdown",
   "metadata": {},
   "source": [
    "# 4 VENTE À L'UNITÈ"
   ]
  },
  {
   "cell_type": "markdown",
   "metadata": {},
   "source": [
    "# 4.1 consomateur"
   ]
  },
  {
   "cell_type": "markdown",
   "metadata": {},
   "source": [
    "- Ici nous représentons le bien y en fonction de x et du revenu"
   ]
  },
  {
   "cell_type": "code",
   "execution_count": 21,
   "metadata": {},
   "outputs": [
    {
     "name": "stdout",
     "output_type": "stream",
     "text": [
      "R - p*x\n"
     ]
    }
   ],
   "source": [
    "yr=R - p*x \n",
    "print(yr)"
   ]
  },
  {
   "cell_type": "markdown",
   "metadata": {},
   "source": [
    "- u1 représente la fonction d'utilité en fonction de deux bien en fonction de x,R,O,W."
   ]
  },
  {
   "cell_type": "code",
   "execution_count": 22,
   "metadata": {},
   "outputs": [
    {
     "name": "stdout",
     "output_type": "stream",
     "text": [
      "h*(R - p*x) + x*(O + W + 1) - (x + 1)*log(x + 1)\n"
     ]
    }
   ],
   "source": [
    "\n",
    "u1=x*(1 + W + O)-(x + 1) * sym.ln(x+1)+h*yr # on remplace y dans l'utilité\n",
    "print(u1)\n"
   ]
  },
  {
   "cell_type": "markdown",
   "metadata": {},
   "source": [
    "- u1x represente la dérivée de la fonction d'utilité u1\n",
    "- u1xx représente la dérivée seconde de la fonction u1\n",
    "\n",
    "- Nous effectunos une dérivé par rapport à x pour maximiser la fonction\n",
    "- La dérivée seconde est négative puisque x est toujours positive donc la fonction de l'utilité admet bien un maximum"
   ]
  },
  {
   "cell_type": "code",
   "execution_count": 23,
   "metadata": {},
   "outputs": [
    {
     "name": "stdout",
     "output_type": "stream",
     "text": [
      "O + W - h*p - log(x + 1)\n",
      "-1/(x + 1)\n"
     ]
    }
   ],
   "source": [
    "\n",
    "u1x=u1.diff(x)\n",
    "u1xx=u1x.diff(x)\n",
    "print(u1x)\n",
    "print(u1xx)\n"
   ]
  },
  {
   "cell_type": "markdown",
   "metadata": {},
   "source": [
    "- Ici nous faisons la résolution de la dérivé de la fonction d'utilité u1 à 0"
   ]
  },
  {
   "cell_type": "code",
   "execution_count": null,
   "metadata": {},
   "outputs": [],
   "source": [
    "xre=sym.solve(u1x,x)\n",
    "print(xre) # on resoud la CN1 POUR TROUVER X EN FONCTION DE TOUT\n",
    "#la fonction de demande de bien composite est:\n"
   ]
  },
  {
   "cell_type": "markdown",
   "metadata": {},
   "source": [
    "- Nous écrivons la fonction de demande de bien composite"
   ]
  },
  {
   "cell_type": "code",
   "execution_count": null,
   "metadata": {},
   "outputs": [],
   "source": [
    "ycompC=R-p*(sym.exp(O + W - h*p) - 1)\n",
    "print(ycompC)\n",
    "# la demande individuelle pour le bien d’intérêt est :\n"
   ]
  },
  {
   "cell_type": "markdown",
   "metadata": {},
   "source": [
    "- Nous écrivons la fonction de la demande individueelle ppour le bien x."
   ]
  },
  {
   "cell_type": "code",
   "execution_count": null,
   "metadata": {},
   "outputs": [],
   "source": [
    "xcompC=(sym.exp(O + W - h*p) - 1)\n",
    "print(xcompC)\n",
    "#On peut alors en déduire l’expression de la fonction d’utilité indirecte du consommateur de type θ :\n"
   ]
  },
  {
   "cell_type": "markdown",
   "metadata": {},
   "source": [
    "- Ici nous écrivons la fonction d'utilité indirect du consommateur de type O"
   ]
  },
  {
   "cell_type": "code",
   "execution_count": null,
   "metadata": {},
   "outputs": [],
   "source": [
    "vindiC=xcompC+h*R\n",
    "print(vindiC)"
   ]
  },
  {
   "cell_type": "markdown",
   "metadata": {},
   "source": [
    "# 4.2 Monopole"
   ]
  },
  {
   "cell_type": "markdown",
   "metadata": {},
   "source": [
    "- Nous écrivons ici la formule du profit "
   ]
  },
  {
   "cell_type": "code",
   "execution_count": null,
   "metadata": {},
   "outputs": [],
   "source": [
    "profit=(p-c)*x # la maximisation du profit\n",
    "profit1=(p-c)*xcompC\n",
    "print(profit)\n",
    "print(profit1)"
   ]
  },
  {
   "cell_type": "markdown",
   "metadata": {},
   "source": [
    "- Écriture de l'intégrale "
   ]
  },
  {
   "cell_type": "code",
   "execution_count": null,
   "metadata": {},
   "outputs": [],
   "source": [
    "O1=sym.integrate(profit1,(O, Om,Op))# Donne la primitive de lq fonction par rapport à O\n",
    "print(O1)\n",
    "\n"
   ]
  },
  {
   "cell_type": "markdown",
   "metadata": {},
   "source": [
    "- Voici l'écriture finale de notre intégrale sur la borne [Oinf,Osup] "
   ]
  },
  {
   "cell_type": "code",
   "execution_count": null,
   "metadata": {},
   "outputs": [],
   "source": [
    "integrale=-Om*(-c + p)*(sym.exp(O + W - h*p) - 1) + Op*(-c + p)*(sym.exp(O + W - h*p) - 1)\n",
    "print(integrale)"
   ]
  },
  {
   "cell_type": "markdown",
   "metadata": {},
   "source": [
    "- En suite nous effectuons une dérivé par rapport à p de l'intégrale du revenu"
   ]
  },
  {
   "cell_type": "code",
   "execution_count": null,
   "metadata": {},
   "outputs": [],
   "source": [
    "integralederive=integrale.diff(p)\n",
    "print(integralederive)"
   ]
  },
  {
   "cell_type": "markdown",
   "metadata": {},
   "source": [
    "- La résolution de la fonction\n",
    "- On trouve un prix p qui est égal"
   ]
  },
  {
   "cell_type": "code",
   "execution_count": null,
   "metadata": {},
   "outputs": [],
   "source": [
    "print(sym.solve(integralederive,p))"
   ]
  },
  {
   "cell_type": "code",
   "execution_count": null,
   "metadata": {},
   "outputs": [],
   "source": [
    "price=(c*h - sym.LambertW(sym.exp(-O - W + c*h + 1)) + 1)/h"
   ]
  },
  {
   "cell_type": "code",
   "execution_count": null,
   "metadata": {},
   "outputs": [],
   "source": [
    "profitU=sym.simplify((price-c)*xcompC)\n",
    "print(profitU)"
   ]
  },
  {
   "cell_type": "markdown",
   "metadata": {},
   "source": [
    "# 5 Tarification forfaitaire \" vente à volonté\""
   ]
  },
  {
   "cell_type": "code",
   "execution_count": 60,
   "metadata": {},
   "outputs": [],
   "source": [
    "import numpy as np\n",
    "import sympy as sym\n",
    "from scipy.special import lambertw\n",
    "x,y,p,R,h,c,A=sym.symbols('x y p R h c A',real=True)\n",
    "O,W,Op,Om,bornesup,borneinf=sym.symbols('O W Omax Omin bornesup borneinf',real = True)"
   ]
  },
  {
   "cell_type": "markdown",
   "metadata": {},
   "source": [
    "# 5.1 Consommateur"
   ]
  },
  {
   "cell_type": "markdown",
   "metadata": {},
   "source": [
    "On a: $y=R-A$\n",
    "\n",
    "-on chperche à maximiser la fonction suivante:  $maxU(x,y)=x(1+O+W)-(x+1)(ln(x+1))+hy$"
   ]
  },
  {
   "cell_type": "markdown",
   "metadata": {},
   "source": [
    "Le consommateur de type O paie A quelle que soit la quantité (strictement positive) consommée. Si x > 0 le programme d’un consommateur de type O est :\n",
    "\n",
    "$max(x,y)=x(1+O+W)-(x+1)(ln(x+1))+hy$\n",
    "    * slc A+y=< R"
   ]
  },
  {
   "cell_type": "markdown",
   "metadata": {},
   "source": [
    "- On cherche à trouver la quantité x qui maximise l'utilité du consommateur.Pour ce faire nous allons regarder la dérivée première et seconde de la fonction d'utilité.\n"
   ]
  },
  {
   "cell_type": "code",
   "execution_count": 61,
   "metadata": {},
   "outputs": [
    {
     "name": "stdout",
     "output_type": "stream",
     "text": [
      "h*(-A + R) + x*(O + W + 1) - (x + 1)*log(x + 1)\n"
     ]
    }
   ],
   "source": [
    "U=x*(1+O+W)-(x+1)*(sym.ln(x+1))+h*(R-A)\n",
    "print(U)"
   ]
  },
  {
   "cell_type": "markdown",
   "metadata": {},
   "source": [
    "soit U=$h(-A + R) - (x + 1)log(x + 1) + x(O + W + 1)$ la fonction d'utilité"
   ]
  },
  {
   "cell_type": "code",
   "execution_count": 62,
   "metadata": {},
   "outputs": [
    {
     "name": "stdout",
     "output_type": "stream",
     "text": [
      "O + W - log(x + 1)\n"
     ]
    }
   ],
   "source": [
    "Ux=sym.diff(U,x)\n",
    "print(Ux)\n"
   ]
  },
  {
   "cell_type": "markdown",
   "metadata": {},
   "source": [
    "soit Ux=$-log(x + 1) - 1$ la dérivée première de la fonction d'utilité"
   ]
  },
  {
   "cell_type": "code",
   "execution_count": 63,
   "metadata": {},
   "outputs": [
    {
     "name": "stdout",
     "output_type": "stream",
     "text": [
      "-1/(x + 1)\n"
     ]
    }
   ],
   "source": [
    "Uxx=sym.diff(Ux,x)\n",
    "print(Uxx)"
   ]
  },
  {
   "cell_type": "markdown",
   "metadata": {},
   "source": [
    "soit Uxx=$-1/(x + 1)$ la secondede la fonction d'utilité"
   ]
  },
  {
   "cell_type": "markdown",
   "metadata": {},
   "source": [
    "- Comme la dérivée seconde de $x$ est toujours négative puisque $x>0$ sur 0 à plus l'infinie la fonction U admet un maximum sur cet intervalle."
   ]
  },
  {
   "cell_type": "markdown",
   "metadata": {},
   "source": [
    "* À la recherche de la solution de x pour Ux=0"
   ]
  },
  {
   "cell_type": "code",
   "execution_count": 64,
   "metadata": {},
   "outputs": [
    {
     "name": "stdout",
     "output_type": "stream",
     "text": [
      "[exp(O + W) - 1]\n",
      "exp(O + W) - 1\n"
     ]
    }
   ],
   "source": [
    "xtrouve=sym.solve(Ux,x)\n",
    "print(xtrouve)\n",
    "xtr=(sym.exp(O+W)-1)\n",
    "print(xtr)"
   ]
  },
  {
   "cell_type": "markdown",
   "metadata": {},
   "source": [
    "Si A ≤ R, la CN1 du programme est  $O + W - log(x + 1)=0$.\n",
    "\n",
    "La fonction de demande individuelle est\n",
    "donc :\n",
    "\n",
    "$U_{\\theta}(A)=exp(O + W) - 1$"
   ]
  },
  {
   "cell_type": "markdown",
   "metadata": {},
   "source": [
    "et la fonction d’utilité indirecte est :\n",
    "\n",
    "   $V_θ(A, R,W) = (exp(O+W)−1 − Ah)_{0< A≤R} + hR$"
   ]
  },
  {
   "cell_type": "code",
   "execution_count": 99,
   "metadata": {},
   "outputs": [
    {
     "name": "stdout",
     "output_type": "stream",
     "text": [
      "-A*h + R*h + exp(O + W) - 1\n",
      "-A*h + exp(O + W) - 1\n",
      "[-W + log(A*h + 1)]\n",
      "A*h\n"
     ]
    }
   ],
   "source": [
    "V=(xtr-A*h+h*R)\n",
    "print(V)\n",
    "print(xtr-A*h)\n",
    "print(sym.solve(xtr-A*h,O))\n",
    "borneinf=A*h\n",
    "print(borneinf)"
   ]
  },
  {
   "cell_type": "markdown",
   "metadata": {},
   "source": [
    "si le bien d’intérêt n’est pas consommé, on a :\n",
    "Vθ(0, R) = hR. Le consommateur choisit de consommer le bien d’intérêt si $θ ≥ A*h$ et si A ≤ R."
   ]
  },
  {
   "cell_type": "markdown",
   "metadata": {},
   "source": [
    "# MONOPOLE"
   ]
  },
  {
   "cell_type": "markdown",
   "metadata": {},
   "source": [
    "- on chperche à maximiser la fonction du profit suivante:  $maxπ_{A}(A)=\\int_{borneinf}^{bornesup} A - c*(exp(O + W) - 1)dF{O}$"
   ]
  },
  {
   "cell_type": "markdown",
   "metadata": {},
   "source": [
    "- Soit la borneinf=Ah"
   ]
  },
  {
   "cell_type": "code",
   "execution_count": 106,
   "metadata": {},
   "outputs": [
    {
     "name": "stdout",
     "output_type": "stream",
     "text": [
      "A - c*(exp(O + W) - 1)\n"
     ]
    }
   ],
   "source": [
    "profit2=A-c*xtr\n",
    "print(profit2)"
   ]
  },
  {
   "cell_type": "markdown",
   "metadata": {},
   "source": [
    "On cherche à effectué une intégrale sur notre intervalle "
   ]
  },
  {
   "cell_type": "code",
   "execution_count": 107,
   "metadata": {},
   "outputs": [
    {
     "name": "stdout",
     "output_type": "stream",
     "text": [
      "-A*h*(A + c) + bornesup*(A + c) - c*exp(W + bornesup) + c*exp(A*h + W)\n",
      "-A*h*(A + c) + bornesup*(A + c) - c*exp(W + bornesup) + c*exp(A*h + W)\n"
     ]
    }
   ],
   "source": [
    "print(sym.integrate(profit2,(O,borneinf,bornesup)))\n",
    "integraleU=-A*h*(A + c) + bornesup*(A + c) - c*sym.exp(W + bornesup) + c*sym.exp(A*h + W)\n",
    "print(integraleU)"
   ]
  },
  {
   "cell_type": "markdown",
   "metadata": {},
   "source": [
    "- Soit la fonction $f=Ah(A + c) + bornesup(A + c) - cexp(W + bornesup) + cexp(Ah + W)$ la fonction de l'intégrale du profit sur l'intervalle défini."
   ]
  },
  {
   "cell_type": "markdown",
   "metadata": {},
   "source": [
    "- Maintenant nous effectuons les dérivées première et seconde de la fonction de profit."
   ]
  },
  {
   "cell_type": "code",
   "execution_count": 108,
   "metadata": {},
   "outputs": [
    {
     "name": "stdout",
     "output_type": "stream",
     "text": [
      "-A*h + bornesup + c*h*exp(A*h + W) - h*(A + c)\n",
      "c*h**2*exp(A*h + W) - 2*h\n",
      "[log(2*exp(-W)/(c*h))/h]\n"
     ]
    }
   ],
   "source": [
    "Ax=sym.diff(integraleU,A)\n",
    "print(Ax)\n",
    "Axx=sym.diff(Ax,A)\n",
    "print(Axx)\n",
    "print(sym.solve(Axx,A))"
   ]
  },
  {
   "cell_type": "markdown",
   "metadata": {},
   "source": [
    "- Soit $A*h + bornesup + c*h*exp(A*h + W) - h*(A + c)$ la dérivé première .\n",
    "- Et $c*h**2*exp(A*h + W) - 2*h$ la dérivée seconde."
   ]
  },
  {
   "cell_type": "markdown",
   "metadata": {},
   "source": [
    "la fonction admet un maximum et est concave seulement si $A>log(2exp(-W)/(ch))/h$"
   ]
  },
  {
   "cell_type": "markdown",
   "metadata": {},
   "source": [
    "**Recherche de la valeur du forfait qui maximuise le profit**"
   ]
  },
  {
   "cell_type": "code",
   "execution_count": 111,
   "metadata": {},
   "outputs": [
    {
     "name": "stdout",
     "output_type": "stream",
     "text": [
      "[(bornesup - c*h - 2*LambertW(-c*h*exp(W + bornesup/2 - c*h/2)/2))/(2*h)]\n"
     ]
    }
   ],
   "source": [
    "print(sym.solve(Ax,A))\n"
   ]
  },
  {
   "cell_type": "markdown",
   "metadata": {},
   "source": [
    "- Soit $A=(bornesup - c*h - 2*LambertW(-c*h*exp(W + bornesup/2 - c*h/2)/2))/(2*h)$ la valeur de A maximisant le profit\n"
   ]
  },
  {
   "cell_type": "code",
   "execution_count": 112,
   "metadata": {},
   "outputs": [],
   "source": [
    "j=(bornesup - c*h - 2*sym.LambertW(-c*h*sym.exp(W + bornesup/2 - c*h/2)/2))/(2*h)"
   ]
  },
  {
   "cell_type": "code",
   "execution_count": 113,
   "metadata": {},
   "outputs": [],
   "source": [
    "profitA=sym.simplify(j-c*xtr)"
   ]
  },
  {
   "cell_type": "markdown",
   "metadata": {},
   "source": [
    "- Réécriture du profit avec la valeur de A maximisant le profit."
   ]
  },
  {
   "cell_type": "code",
   "execution_count": 115,
   "metadata": {},
   "outputs": [
    {
     "name": "stdout",
     "output_type": "stream",
     "text": [
      "(bornesup/2 - c*h*(exp(O + W) - 1) - c*h/2 - LambertW(-c*h*exp(W + bornesup/2 - c*h/2)/2))/h\n"
     ]
    }
   ],
   "source": [
    "print(profitA)"
   ]
  },
  {
   "cell_type": "markdown",
   "metadata": {},
   "source": [
    "- **Soit le profit $π=(bornesup/2 - c*h*(exp(O + W) - 1) - c*h/2 - LambertW(-c*h*exp(W + bornesup/2 - c*h/2)/2))/h$**"
   ]
  },
  {
   "cell_type": "code",
   "execution_count": null,
   "metadata": {},
   "outputs": [],
   "source": []
  }
 ],
 "metadata": {
  "kernelspec": {
   "display_name": "Python 3",
   "language": "python",
   "name": "python3"
  },
  "language_info": {
   "codemirror_mode": {
    "name": "ipython",
    "version": 3
   },
   "file_extension": ".py",
   "mimetype": "text/x-python",
   "name": "python",
   "nbconvert_exporter": "python",
   "pygments_lexer": "ipython3",
   "version": "3.8.5"
  }
 },
 "nbformat": 4,
 "nbformat_minor": 2
}
